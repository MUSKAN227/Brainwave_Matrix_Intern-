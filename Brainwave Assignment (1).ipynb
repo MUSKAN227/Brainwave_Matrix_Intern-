{
 "cells": [
  {
   "cell_type": "code",
   "execution_count": 35,
   "id": "03f6506b",
   "metadata": {},
   "outputs": [],
   "source": [
    "import os\n",
    "import pandas as pd\n",
    "import matplotlib.pyplot as plt\n",
    "import seaborn as sns"
   ]
  },
  {
   "cell_type": "code",
   "execution_count": 21,
   "id": "954a47e7",
   "metadata": {},
   "outputs": [
    {
     "name": "stdout",
     "output_type": "stream",
     "text": [
      "Fast-Food Chains\n",
      "U.S. Systemwide Sales (Millions - U.S Dollars)\n",
      "Average Sales per Unit (Thousands - U.S Dollars)\n",
      "Franchised Stores\n",
      "Company Stores\n",
      "2021 Total Units\n",
      "Total Change in Units from 2020\n"
     ]
    }
   ],
   "source": [
    "files=pd.read_excel(r\"C:\\Users\\Muskan\\OneDrive\\Desktop\\food.xlsx\")\n",
    "for file in files:\n",
    "    print(file)"
   ]
  },
  {
   "cell_type": "code",
   "execution_count": 27,
   "id": "b4dd615f",
   "metadata": {
    "scrolled": true
   },
   "outputs": [
    {
     "name": "stdout",
     "output_type": "stream",
     "text": [
      "                            Fast-Food Chains  \\\n",
      "0                                   Arbyâ€™s   \n",
      "1                             Baskin-Robbins   \n",
      "2                                  Bojangles   \n",
      "3                                Burger King   \n",
      "4                               Carlâ€™s Jr.   \n",
      "5                         Checkers/Rallyâ€™s   \n",
      "6                                Chick-fil-A   \n",
      "7                                   Chipotle   \n",
      "8                         Churchâ€™s Chicken   \n",
      "9                                 Culverâ€™s   \n",
      "10                               Dairy Queen   \n",
      "11                                  Del Taco   \n",
      "12                                  Domino's   \n",
      "13                                   Dunkin'   \n",
      "14                             El Pollo Loco   \n",
      "15                            Firehouse Subs   \n",
      "16                                 Five Guys   \n",
      "17  Freddyâ€™s Frozen Custard & Steakburgers   \n",
      "18                                Hardeeâ€™s   \n",
      "19                           In-N-Out Burger   \n",
      "20                           Jack in the Box   \n",
      "21                           Jersey Mikeâ€™s   \n",
      "22                            Jimmy Johnâ€™s   \n",
      "23                                       KFC   \n",
      "24                              Krispy Kreme   \n",
      "25                            Little Caesars   \n",
      "26                           Marcoâ€™s Pizza   \n",
      "27                        McAlisterâ€™s Deli   \n",
      "28                              McDonaldâ€™s   \n",
      "29                   Moeâ€™s Southwest Grill   \n",
      "30                             Panda Express   \n",
      "31                              Panera Bread   \n",
      "32                                Papa Johns   \n",
      "33                           Papa Murphyâ€™s   \n",
      "34                                 Pizza Hut   \n",
      "35                 Popeyes Louisiana Kitchen   \n",
      "36                                     QDOBA   \n",
      "37                          Raising Caneâ€™s   \n",
      "38                               Shake Shack   \n",
      "39                            Sonic Drive-In   \n",
      "40                                 Starbucks   \n",
      "41                                    Subway   \n",
      "42                                 Taco Bell   \n",
      "43                               Tim Hortons   \n",
      "44                    Tropical Smoothie Cafe   \n",
      "45                                   Wendy's   \n",
      "46                               Whataburger   \n",
      "47                              White Castle   \n",
      "48                                  Wingstop   \n",
      "49                                 Zaxbyâ€™s   \n",
      "\n",
      "    U.S. Systemwide Sales (Millions - U.S Dollars)  \\\n",
      "0                                             4462   \n",
      "1                                              686   \n",
      "2                                             1485   \n",
      "3                                            10033   \n",
      "4                                             1560   \n",
      "5                                              931   \n",
      "6                                            16700   \n",
      "7                                             7547   \n",
      "8                                              776   \n",
      "9                                             2489   \n",
      "10                                            4494   \n",
      "11                                             931   \n",
      "12                                            8641   \n",
      "13                                           10416   \n",
      "14                                             973   \n",
      "15                                            1044   \n",
      "16                                            2093   \n",
      "17                                             759   \n",
      "18                                            2100   \n",
      "19                                            1175   \n",
      "20                                            4077   \n",
      "21                                            2203   \n",
      "22                                            2301   \n",
      "23                                            5100   \n",
      "24                                             996   \n",
      "25                                            4185   \n",
      "26                                             899   \n",
      "27                                             869   \n",
      "28                                           45960   \n",
      "29                                             661   \n",
      "30                                            4452   \n",
      "31                                            5650   \n",
      "32                                            3486   \n",
      "33                                             809   \n",
      "34                                            5500   \n",
      "35                                            4775   \n",
      "36                                             835   \n",
      "37                                            2377   \n",
      "38                                             777   \n",
      "39                                            5835   \n",
      "40                                           24300   \n",
      "41                                            9350   \n",
      "42                                           12600   \n",
      "43                                             687   \n",
      "44                                             948   \n",
      "45                                           11111   \n",
      "46                                            3089   \n",
      "47                                             615   \n",
      "48                                            2278   \n",
      "49                                            2233   \n",
      "\n",
      "    Average Sales per Unit (Thousands - U.S Dollars)  Franchised Stores  \\\n",
      "0                                               1309               2293   \n",
      "1                                                296               2317   \n",
      "2                                               1924                496   \n",
      "3                                               1470               7054   \n",
      "4                                               1400               1011   \n",
      "5                                               1145                568   \n",
      "6                                               6100               2650   \n",
      "7                                               2641                  0   \n",
      "8                                                870                731   \n",
      "9                                               3099                831   \n",
      "10                                              1036               4337   \n",
      "11                                              1551                306   \n",
      "12                                              1317               6185   \n",
      "13                                              1127               9244   \n",
      "14                                              2000                292   \n",
      "15                                               909               1101   \n",
      "16                                              3172                911   \n",
      "17                                              1842                391   \n",
      "18                                              1117               1536   \n",
      "19                                              3200                  0   \n",
      "20                                              1843               2055   \n",
      "21                                              1145               2087   \n",
      "22                                               866               2616   \n",
      "23                                              1408               3906   \n",
      "24                                              4000                 51   \n",
      "25                                              1000               3601   \n",
      "26                                               934                957   \n",
      "27                                              1866                472   \n",
      "28                                              3420              12775   \n",
      "29                                              1073                658   \n",
      "30                                              2173                147   \n",
      "31                                              2700               1130   \n",
      "32                                              1147               2564   \n",
      "33                                               643               1213   \n",
      "34                                              1022               6526   \n",
      "35                                              1867               2716   \n",
      "36                                              1006                406   \n",
      "37                                              4893                 23   \n",
      "38                                              3679                 25   \n",
      "39                                              1643               3232   \n",
      "40                                              1200               6497   \n",
      "41                                               438              21147   \n",
      "42                                              1823               6540   \n",
      "43                                              1200                637   \n",
      "44                                              1009               1038   \n",
      "45                                              1895               5535   \n",
      "46                                              3640                131   \n",
      "47                                              1749                  0   \n",
      "48                                              1592               1498   \n",
      "49                                              2484                761   \n",
      "\n",
      "    Company Stores  2021 Total Units  Total Change in Units from 2020  \n",
      "0             1116              3409                               40  \n",
      "1                0              2317                              102  \n",
      "2              277               773                               15  \n",
      "3               51              7105                               24  \n",
      "4               47              1058                              -21  \n",
      "5              266               834                              -13  \n",
      "6               82              2732                              155  \n",
      "7             2966              2966                              198  \n",
      "8              161               892                              -13  \n",
      "9                6               837                               55  \n",
      "10               2              4339                              -22  \n",
      "11             294               600                                4  \n",
      "12             375              6560                              205  \n",
      "13               0              9244                              161  \n",
      "14             189               481                                1  \n",
      "15              39              1140                                9  \n",
      "16             479              1390                                8  \n",
      "17              29               420                               32  \n",
      "18             198              1734                              -32  \n",
      "19             370               370                                5  \n",
      "20             163              2218                              -23  \n",
      "21              13              2100                              246  \n",
      "22              41              2657                               48  \n",
      "23              47              3953                               10  \n",
      "24             307               358                                6  \n",
      "25             580              4181                              -28  \n",
      "26              45              1002                               48  \n",
      "27              33               505                               24  \n",
      "28             663             13438                              244  \n",
      "29               1               659                              -22  \n",
      "30            2187              2334                              150  \n",
      "31             950              2080                              -25  \n",
      "32             600              3164                               30  \n",
      "33              27              1240                              -53  \n",
      "34              22              6548                              -13  \n",
      "35              41              2754                              146  \n",
      "36             333               739                                2  \n",
      "37             544               567                               58  \n",
      "38             218               243                               38  \n",
      "39             320              3552                               26  \n",
      "40            8953             15450                              113  \n",
      "41               0             21147                            -1043  \n",
      "42             462              7002                              203  \n",
      "43               0               637                                4  \n",
      "44               1              1039                              125  \n",
      "45             403              5938                               57  \n",
      "46             742               873                               29  \n",
      "47             349               349                               -6  \n",
      "48              36              1534                              175  \n",
      "49             147               908                                3  \n"
     ]
    },
    {
     "data": {
      "text/plain": [
       "(50, 7)"
      ]
     },
     "execution_count": 27,
     "metadata": {},
     "output_type": "execute_result"
    }
   ],
   "source": [
    "path = r\"C:\\Users\\Muskan\\OneDrive\\Desktop\\food.xlsx\"\n",
    "all_data = pd.read_excel(path)  # Read the single Excel file directly\n",
    "print(all_data)\n",
    "all_data.shape"
   ]
  },
  {
   "cell_type": "code",
   "execution_count": 28,
   "id": "9db54b43",
   "metadata": {},
   "outputs": [],
   "source": [
    "#convert it into dataset\n",
    "all_data.to_excel(r'C:\\Users\\Muskan\\OneDrive\\Desktop\\food.xlsx',index=False)"
   ]
  },
  {
   "cell_type": "code",
   "execution_count": 29,
   "id": "ae3ab502",
   "metadata": {},
   "outputs": [
    {
     "data": {
      "text/plain": [
       "Fast-Food Chains                                    object\n",
       "U.S. Systemwide Sales (Millions - U.S Dollars)       int64\n",
       "Average Sales per Unit (Thousands - U.S Dollars)     int64\n",
       "Franchised Stores                                    int64\n",
       "Company Stores                                       int64\n",
       "2021 Total Units                                     int64\n",
       "Total Change in Units from 2020                      int64\n",
       "dtype: object"
      ]
     },
     "execution_count": 29,
     "metadata": {},
     "output_type": "execute_result"
    }
   ],
   "source": [
    "#Data cleaning and formatting\n",
    "all_data.dtypes"
   ]
  },
  {
   "cell_type": "code",
   "execution_count": 30,
   "id": "092230ea",
   "metadata": {
    "scrolled": true
   },
   "outputs": [
    {
     "data": {
      "text/html": [
       "<div>\n",
       "<style scoped>\n",
       "    .dataframe tbody tr th:only-of-type {\n",
       "        vertical-align: middle;\n",
       "    }\n",
       "\n",
       "    .dataframe tbody tr th {\n",
       "        vertical-align: top;\n",
       "    }\n",
       "\n",
       "    .dataframe thead th {\n",
       "        text-align: right;\n",
       "    }\n",
       "</style>\n",
       "<table border=\"1\" class=\"dataframe\">\n",
       "  <thead>\n",
       "    <tr style=\"text-align: right;\">\n",
       "      <th></th>\n",
       "      <th>Fast-Food Chains</th>\n",
       "      <th>U.S. Systemwide Sales (Millions - U.S Dollars)</th>\n",
       "      <th>Average Sales per Unit (Thousands - U.S Dollars)</th>\n",
       "      <th>Franchised Stores</th>\n",
       "      <th>Company Stores</th>\n",
       "      <th>2021 Total Units</th>\n",
       "      <th>Total Change in Units from 2020</th>\n",
       "    </tr>\n",
       "  </thead>\n",
       "  <tbody>\n",
       "    <tr>\n",
       "      <th>0</th>\n",
       "      <td>Arbyâ€™s</td>\n",
       "      <td>4462</td>\n",
       "      <td>1309</td>\n",
       "      <td>2293</td>\n",
       "      <td>1116</td>\n",
       "      <td>3409</td>\n",
       "      <td>40</td>\n",
       "    </tr>\n",
       "    <tr>\n",
       "      <th>1</th>\n",
       "      <td>Baskin-Robbins</td>\n",
       "      <td>686</td>\n",
       "      <td>296</td>\n",
       "      <td>2317</td>\n",
       "      <td>0</td>\n",
       "      <td>2317</td>\n",
       "      <td>102</td>\n",
       "    </tr>\n",
       "    <tr>\n",
       "      <th>2</th>\n",
       "      <td>Bojangles</td>\n",
       "      <td>1485</td>\n",
       "      <td>1924</td>\n",
       "      <td>496</td>\n",
       "      <td>277</td>\n",
       "      <td>773</td>\n",
       "      <td>15</td>\n",
       "    </tr>\n",
       "    <tr>\n",
       "      <th>3</th>\n",
       "      <td>Burger King</td>\n",
       "      <td>10033</td>\n",
       "      <td>1470</td>\n",
       "      <td>7054</td>\n",
       "      <td>51</td>\n",
       "      <td>7105</td>\n",
       "      <td>24</td>\n",
       "    </tr>\n",
       "    <tr>\n",
       "      <th>4</th>\n",
       "      <td>Carlâ€™s Jr.</td>\n",
       "      <td>1560</td>\n",
       "      <td>1400</td>\n",
       "      <td>1011</td>\n",
       "      <td>47</td>\n",
       "      <td>1058</td>\n",
       "      <td>-21</td>\n",
       "    </tr>\n",
       "  </tbody>\n",
       "</table>\n",
       "</div>"
      ],
      "text/plain": [
       "  Fast-Food Chains  U.S. Systemwide Sales (Millions - U.S Dollars)  \\\n",
       "0         Arbyâ€™s                                            4462   \n",
       "1   Baskin-Robbins                                             686   \n",
       "2        Bojangles                                            1485   \n",
       "3      Burger King                                           10033   \n",
       "4     Carlâ€™s Jr.                                            1560   \n",
       "\n",
       "   Average Sales per Unit (Thousands - U.S Dollars)  Franchised Stores  \\\n",
       "0                                              1309               2293   \n",
       "1                                               296               2317   \n",
       "2                                              1924                496   \n",
       "3                                              1470               7054   \n",
       "4                                              1400               1011   \n",
       "\n",
       "   Company Stores  2021 Total Units  Total Change in Units from 2020  \n",
       "0            1116              3409                               40  \n",
       "1               0              2317                              102  \n",
       "2             277               773                               15  \n",
       "3              51              7105                               24  \n",
       "4              47              1058                              -21  "
      ]
     },
     "execution_count": 30,
     "metadata": {},
     "output_type": "execute_result"
    }
   ],
   "source": [
    "all_data.head()"
   ]
  },
  {
   "cell_type": "code",
   "execution_count": 31,
   "id": "966bc6eb",
   "metadata": {},
   "outputs": [
    {
     "data": {
      "text/plain": [
       "Fast-Food Chains                                    0\n",
       "U.S. Systemwide Sales (Millions - U.S Dollars)      0\n",
       "Average Sales per Unit (Thousands - U.S Dollars)    0\n",
       "Franchised Stores                                   0\n",
       "Company Stores                                      0\n",
       "2021 Total Units                                    0\n",
       "Total Change in Units from 2020                     0\n",
       "dtype: int64"
      ]
     },
     "execution_count": 31,
     "metadata": {},
     "output_type": "execute_result"
    }
   ],
   "source": [
    "all_data.isnull().sum()"
   ]
  },
  {
   "cell_type": "code",
   "execution_count": 32,
   "id": "33020ed3",
   "metadata": {},
   "outputs": [
    {
     "data": {
      "text/plain": [
       "(50, 7)"
      ]
     },
     "execution_count": 32,
     "metadata": {},
     "output_type": "execute_result"
    }
   ],
   "source": [
    "all_data = all_data.dropna(how='all')\n",
    "all_data.shape\n"
   ]
  },
  {
   "cell_type": "code",
   "execution_count": 42,
   "id": "037520ee",
   "metadata": {},
   "outputs": [
    {
     "data": {
      "image/png": "[encoded data removed]",
      "text/plain": [
       "<Figure size 720x432 with 1 Axes>"
      ]
     },
     "metadata": {
      "needs_background": "light"
     },
     "output_type": "display_data"
    }
   ],
   "source": [
    "#Data visualization\n",
    "plt.figure(figsize=(10, 6))\n",
    "sns.scatterplot(x='Average Sales per Unit (Thousands - U.S Dollars)', y='U.S. Systemwide Sales (Millions - U.S Dollars)', data=all_data)\n",
    "plt.title('Average Sales per Unit vs U.S. Systemwide Sales')\n",
    "plt.xlabel('Average Sales per Unit (Thousands - U.S Dollars)')\n",
    "plt.ylabel('U.S. Systemwide Sales (Millions - U.S Dollars)')\n",
    "plt.show()"
   ]
  },
  {
   "cell_type": "code",
   "execution_count": null,
   "id": "22adbf88",
   "metadata": {},
   "outputs": [],
   "source": []
  },
  {
   "cell_type": "code",
   "execution_count": null,
   "id": "a23d71d4",
   "metadata": {},
   "outputs": [],
   "source": []
  },
  {
   "cell_type": "code",
   "execution_count": null,
   "id": "f962acf7",
   "metadata": {},
   "outputs": [],
   "source": []
  }
 ],
 "metadata": {
  "kernelspec": {
   "display_name": "Python 3 (ipykernel)",
   "language": "python",
   "name": "python3"
  },
  "language_info": {
   "codemirror_mode": {
    "name": "ipython",
    "version": 3
   },
   "file_extension": ".py",
   "mimetype": "text/x-python",
   "name": "python",
   "nbconvert_exporter": "python",
   "pygments_lexer": "ipython3",
   "version": "3.9.7"
  }
 },
 "nbformat": 4,
 "nbformat_minor": 5
}
