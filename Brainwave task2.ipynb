{
 "cells": [
  {
   "cell_type": "code",
   "execution_count": 52,
   "id": "3c84d11c",
   "metadata": {},
   "outputs": [],
   "source": [
    "import pandas as pd\n",
    "import numpy as np\n",
    "import matplotlib.pyplot as plt\n",
    "import seaborn as sns\n",
    "import re\n",
    "import string\n",
    "import nltk\n",
    "import warnings\n",
    "%matplotlib inline\n",
    "\n",
    "warnings.filterwarnings('ignore')"
   ]
  },
  {
   "cell_type": "code",
   "execution_count": 53,
   "id": "7dc96698",
   "metadata": {},
   "outputs": [
    {
     "data": {
      "text/html": [
       "<div>\n",
       "<style scoped>\n",
       "    .dataframe tbody tr th:only-of-type {\n",
       "        vertical-align: middle;\n",
       "    }\n",
       "\n",
       "    .dataframe tbody tr th {\n",
       "        vertical-align: top;\n",
       "    }\n",
       "\n",
       "    .dataframe thead th {\n",
       "        text-align: right;\n",
       "    }\n",
       "</style>\n",
       "<table border=\"1\" class=\"dataframe\">\n",
       "  <thead>\n",
       "    <tr style=\"text-align: right;\">\n",
       "      <th></th>\n",
       "      <th>id</th>\n",
       "      <th>label</th>\n",
       "      <th>tweet</th>\n",
       "    </tr>\n",
       "  </thead>\n",
       "  <tbody>\n",
       "    <tr>\n",
       "      <th>0</th>\n",
       "      <td>1</td>\n",
       "      <td>0</td>\n",
       "      <td>@user when a father is dysfunctional and is s...</td>\n",
       "    </tr>\n",
       "    <tr>\n",
       "      <th>1</th>\n",
       "      <td>2</td>\n",
       "      <td>0</td>\n",
       "      <td>@user @user thanks for #lyft credit i can't us...</td>\n",
       "    </tr>\n",
       "    <tr>\n",
       "      <th>2</th>\n",
       "      <td>3</td>\n",
       "      <td>0</td>\n",
       "      <td>bihday your majesty</td>\n",
       "    </tr>\n",
       "    <tr>\n",
       "      <th>3</th>\n",
       "      <td>4</td>\n",
       "      <td>0</td>\n",
       "      <td>#model   i love u take with u all the time in ...</td>\n",
       "    </tr>\n",
       "    <tr>\n",
       "      <th>4</th>\n",
       "      <td>5</td>\n",
       "      <td>0</td>\n",
       "      <td>factsguide: society now    #motivation</td>\n",
       "    </tr>\n",
       "  </tbody>\n",
       "</table>\n",
       "</div>"
      ],
      "text/plain": [
       "   id  label                                              tweet\n",
       "0   1      0   @user when a father is dysfunctional and is s...\n",
       "1   2      0  @user @user thanks for #lyft credit i can't us...\n",
       "2   3      0                                bihday your majesty\n",
       "3   4      0  #model   i love u take with u all the time in ...\n",
       "4   5      0             factsguide: society now    #motivation"
      ]
     },
     "execution_count": 53,
     "metadata": {},
     "output_type": "execute_result"
    }
   ],
   "source": [
    "#LOADING DATASET\n",
    "df=pd.read_csv(r\"C:\\Users\\Muskan\\Downloads\\Twitter Sentiments.csv\")\n",
    "df.head()\n"
   ]
  },
  {
   "cell_type": "code",
   "execution_count": 54,
   "id": "32d658cc",
   "metadata": {},
   "outputs": [
    {
     "name": "stdout",
     "output_type": "stream",
     "text": [
      "<class 'pandas.core.frame.DataFrame'>\n",
      "RangeIndex: 31962 entries, 0 to 31961\n",
      "Data columns (total 3 columns):\n",
      " #   Column  Non-Null Count  Dtype \n",
      "---  ------  --------------  ----- \n",
      " 0   id      31962 non-null  int64 \n",
      " 1   label   31962 non-null  int64 \n",
      " 2   tweet   31962 non-null  object\n",
      "dtypes: int64(2), object(1)\n",
      "memory usage: 749.2+ KB\n"
     ]
    }
   ],
   "source": [
    "#Datatype info\n",
    "df.info()"
   ]
  },
  {
   "cell_type": "code",
   "execution_count": 55,
   "id": "37eb414a",
   "metadata": {},
   "outputs": [],
   "source": [
    "#preprocessing the dataset\n",
    "\n",
    "def remove_pattern(input_txt, pattern):\n",
    "    r = re.findall(pattern, input_txt)\n",
    "    cleaned_text = ' '.join([word for word in input_txt.split() if word not in r])\n",
    "    return cleaned_text\n"
   ]
  },
  {
   "cell_type": "code",
   "execution_count": 56,
   "id": "6654cc2f",
   "metadata": {},
   "outputs": [
    {
     "data": {
      "text/plain": [
       "'!\"#$%&\\'()*+,-./:;<=>?@[\\\\]^_`{|}~'"
      ]
     },
     "execution_count": 56,
     "metadata": {},
     "output_type": "execute_result"
    }
   ],
   "source": [
    "#Convert to lowercase\n",
    "df['clean_text'] = df['tweet'].str.lower()\n",
    "df.head()\n",
    "#removal of punctuations\n",
    "string.punctuation\n"
   ]
  },
  {
   "cell_type": "code",
   "execution_count": 63,
   "id": "f19f512e",
   "metadata": {
    "scrolled": true
   },
   "outputs": [
    {
     "name": "stdout",
     "output_type": "stream",
     "text": [
      "   id  label                                              tweet  \\\n",
      "0   1      0   @user when a father is dysfunctional and is s...   \n",
      "1   2      0  @user @user thanks for #lyft credit i can't us...   \n",
      "2   3      0                                bihday your majesty   \n",
      "3   4      0  #model   i love u take with u all the time in ...   \n",
      "4   5      0             factsguide: society now    #motivation   \n",
      "\n",
      "                                          clean_text  \n",
      "0   user when a father is dysfunctional and is so...  \n",
      "1  user user thanks for lyft credit i cant use ca...  \n",
      "2                                bihday your majesty  \n",
      "3  model   i love u take with u all the time in u...  \n",
      "4               factsguide society now    motivation  \n"
     ]
    }
   ],
   "source": [
    "df['clean_text'] = df['clean_text'].apply(remove_punctuations)\n",
    "print(df.head())"
   ]
  },
  {
   "cell_type": "code",
   "execution_count": 65,
   "id": "fb2981b8",
   "metadata": {},
   "outputs": [
    {
     "data": {
      "text/plain": [
       "0    [user, when, a, father, is, dysfunctional, and...\n",
       "1    [user, user, thanks, for, lyft, credit, i, can...\n",
       "2                              [bihday, your, majesty]\n",
       "3    [model, i, love, u, take, with, u, all, the, t...\n",
       "4               [factsguide, society, now, motivation]\n",
       "Name: clean_text, dtype: object"
      ]
     },
     "execution_count": 65,
     "metadata": {},
     "output_type": "execute_result"
    }
   ],
   "source": [
    "# Individual words considered as tokens\n",
    "tokenized_tweet = df['clean_text'].apply(lambda x: x.split())\n",
    "tokenized_tweet.head()\n"
   ]
  },
  {
   "cell_type": "code",
   "execution_count": 15,
   "id": "95b30cab",
   "metadata": {},
   "outputs": [
    {
     "data": {
      "image/png": "[encoded data removed]",
      "text/plain": [
       "<Figure size 432x288 with 1 Axes>"
      ]
     },
     "metadata": {
      "needs_background": "light"
     },
     "output_type": "display_data"
    }
   ],
   "source": [
    "from collections import Counter\n",
    "import matplotlib.pyplot as plt\n",
    "\n",
    "# Flatten the list of all tokenized words\n",
    "all_words = [word for sentence in tokenized_tweet for word in sentence]\n",
    "word_counts = Counter(all_words).most_common(10)\n",
    "\n",
    "# Unpack words and their counts for plotting\n",
    "words, counts = zip(*word_counts)\n",
    "plt.bar(words, counts)\n",
    "plt.xticks(rotation=45)\n",
    "plt.title('Top 10 Most Frequent Words')\n",
    "plt.show()\n"
   ]
  },
  {
   "cell_type": "raw",
   "id": "920bf3bc",
   "metadata": {},
   "source": [
    "from textblob import TextBlob\n",
    "\n",
    "# Extract sentiment polarity\n",
    "df['sentiment'] = df['clean_text'].apply(lambda x: TextBlob(x).sentiment.polarity)\n"
   ]
  },
  {
   "cell_type": "code",
   "execution_count": 72,
   "id": "0471d532",
   "metadata": {},
   "outputs": [
    {
     "data": {
      "image/png": "[encoded data removed]",
      "text/plain": [
       "<Figure size 432x288 with 1 Axes>"
      ]
     },
     "metadata": {
      "needs_background": "light"
     },
     "output_type": "display_data"
    }
   ],
   "source": [
    "import matplotlib.pyplot as plt\n",
    "\n",
    "# Calculate overall average sentiment\n",
    "average_sentiment = df['sentiment'].mean()\n",
    "\n",
    "# Create a single-point plot for visualization\n",
    "plt.figure(figsize=(6, 4))\n",
    "plt.bar(['Overall Sentiment'], [average_sentiment], color='purple')\n",
    "plt.title('Average Sentiment')\n",
    "plt.ylabel('Sentiment Score')\n",
    "plt.ylim(-1, 1)  # Sentiment polarity typically ranges between -1 and 1\n",
    "plt.show()\n"
   ]
  },
  {
   "cell_type": "code",
   "execution_count": null,
   "id": "0761305b",
   "metadata": {},
   "outputs": [],
   "source": []
  }
 ],
 "metadata": {
  "kernelspec": {
   "display_name": "Python 3 (ipykernel)",
   "language": "python",
   "name": "python3"
  },
  "language_info": {
   "codemirror_mode": {
    "name": "ipython",
    "version": 3
   },
   "file_extension": ".py",
   "mimetype": "text/x-python",
   "name": "python",
   "nbconvert_exporter": "python",
   "pygments_lexer": "ipython3",
   "version": "3.9.7"
  }
 },
 "nbformat": 4,
 "nbformat_minor": 5
}
